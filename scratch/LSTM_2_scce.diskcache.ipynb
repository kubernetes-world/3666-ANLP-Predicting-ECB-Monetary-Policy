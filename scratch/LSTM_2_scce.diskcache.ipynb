{
  "nbformat": 4,
  "nbformat_minor": 0,
  "metadata": {
    "colab": {
      "provenance": [],
      "include_colab_link": true
    },
    "kernelspec": {
      "name": "python3",
      "display_name": "Python 3"
    },
    "language_info": {
      "name": "python"
    }
  },
  "cells": [
    {
      "cell_type": "markdown",
      "metadata": {
        "id": "view-in-github",
        "colab_type": "text"
      },
      "source": [
        "<a href=\"https://colab.research.google.com/github/kubernetes-world/3666-ANLP-Predicting-ECB-Monetary-Policy/blob/main/LSTM_2_scce.diskcache.ipynb\" target=\"_parent\"><img src=\"https://colab.research.google.com/assets/colab-badge.svg\" alt=\"Open In Colab\"/></a>"
      ]
    },
    {
      "cell_type": "code",
      "source": [
        "!pip install diskcache\n",
        "!pip install boto3\n",
        "!pip install scikeras"
      ],
      "metadata": {
        "collapsed": true,
        "id": "z_BjdltLgsjk",
        "colab": {
          "base_uri": "https://localhost:8080/"
        },
        "outputId": "ede9ee85-2186-4629-8552-693818a10454"
      },
      "execution_count": 1,
      "outputs": [
        {
          "output_type": "stream",
          "name": "stdout",
          "text": [
            "Collecting diskcache\n",
            "  Downloading diskcache-5.6.3-py3-none-any.whl.metadata (20 kB)\n",
            "Downloading diskcache-5.6.3-py3-none-any.whl (45 kB)\n",
            "\u001b[?25l   \u001b[90m━━━━━━━━━━━━━━━━━━━━━━━━━━━━━━━━━━━━━━━━\u001b[0m \u001b[32m0.0/45.5 kB\u001b[0m \u001b[31m?\u001b[0m eta \u001b[36m-:--:--\u001b[0m\r\u001b[2K   \u001b[90m━━━━━━━━━━━━━━━━━━━━━━━━━━━━━━━━━━━━━━━━\u001b[0m \u001b[32m45.5/45.5 kB\u001b[0m \u001b[31m2.8 MB/s\u001b[0m eta \u001b[36m0:00:00\u001b[0m\n",
            "\u001b[?25hInstalling collected packages: diskcache\n",
            "Successfully installed diskcache-5.6.3\n",
            "Collecting boto3\n",
            "  Downloading boto3-1.35.81-py3-none-any.whl.metadata (6.7 kB)\n",
            "Collecting botocore<1.36.0,>=1.35.81 (from boto3)\n",
            "  Downloading botocore-1.35.81-py3-none-any.whl.metadata (5.7 kB)\n",
            "Collecting jmespath<2.0.0,>=0.7.1 (from boto3)\n",
            "  Downloading jmespath-1.0.1-py3-none-any.whl.metadata (7.6 kB)\n",
            "Collecting s3transfer<0.11.0,>=0.10.0 (from boto3)\n",
            "  Downloading s3transfer-0.10.4-py3-none-any.whl.metadata (1.7 kB)\n",
            "Requirement already satisfied: python-dateutil<3.0.0,>=2.1 in /usr/local/lib/python3.10/dist-packages (from botocore<1.36.0,>=1.35.81->boto3) (2.8.2)\n",
            "Requirement already satisfied: urllib3!=2.2.0,<3,>=1.25.4 in /usr/local/lib/python3.10/dist-packages (from botocore<1.36.0,>=1.35.81->boto3) (2.2.3)\n",
            "Requirement already satisfied: six>=1.5 in /usr/local/lib/python3.10/dist-packages (from python-dateutil<3.0.0,>=2.1->botocore<1.36.0,>=1.35.81->boto3) (1.17.0)\n",
            "Downloading boto3-1.35.81-py3-none-any.whl (139 kB)\n",
            "\u001b[2K   \u001b[90m━━━━━━━━━━━━━━━━━━━━━━━━━━━━━━━━━━━━━━━━\u001b[0m \u001b[32m139.2/139.2 kB\u001b[0m \u001b[31m9.0 MB/s\u001b[0m eta \u001b[36m0:00:00\u001b[0m\n",
            "\u001b[?25hDownloading botocore-1.35.81-py3-none-any.whl (13.3 MB)\n",
            "\u001b[2K   \u001b[90m━━━━━━━━━━━━━━━━━━━━━━━━━━━━━━━━━━━━━━━━\u001b[0m \u001b[32m13.3/13.3 MB\u001b[0m \u001b[31m55.7 MB/s\u001b[0m eta \u001b[36m0:00:00\u001b[0m\n",
            "\u001b[?25hDownloading jmespath-1.0.1-py3-none-any.whl (20 kB)\n",
            "Downloading s3transfer-0.10.4-py3-none-any.whl (83 kB)\n",
            "\u001b[2K   \u001b[90m━━━━━━━━━━━━━━━━━━━━━━━━━━━━━━━━━━━━━━━━\u001b[0m \u001b[32m83.2/83.2 kB\u001b[0m \u001b[31m6.3 MB/s\u001b[0m eta \u001b[36m0:00:00\u001b[0m\n",
            "\u001b[?25hInstalling collected packages: jmespath, botocore, s3transfer, boto3\n",
            "Successfully installed boto3-1.35.81 botocore-1.35.81 jmespath-1.0.1 s3transfer-0.10.4\n",
            "Collecting scikeras\n",
            "  Downloading scikeras-0.13.0-py3-none-any.whl.metadata (3.1 kB)\n",
            "Requirement already satisfied: keras>=3.2.0 in /usr/local/lib/python3.10/dist-packages (from scikeras) (3.5.0)\n",
            "Requirement already satisfied: scikit-learn>=1.4.2 in /usr/local/lib/python3.10/dist-packages (from scikeras) (1.5.2)\n",
            "Requirement already satisfied: absl-py in /usr/local/lib/python3.10/dist-packages (from keras>=3.2.0->scikeras) (1.4.0)\n",
            "Requirement already satisfied: numpy in /usr/local/lib/python3.10/dist-packages (from keras>=3.2.0->scikeras) (1.26.4)\n",
            "Requirement already satisfied: rich in /usr/local/lib/python3.10/dist-packages (from keras>=3.2.0->scikeras) (13.9.4)\n",
            "Requirement already satisfied: namex in /usr/local/lib/python3.10/dist-packages (from keras>=3.2.0->scikeras) (0.0.8)\n",
            "Requirement already satisfied: h5py in /usr/local/lib/python3.10/dist-packages (from keras>=3.2.0->scikeras) (3.12.1)\n",
            "Requirement already satisfied: optree in /usr/local/lib/python3.10/dist-packages (from keras>=3.2.0->scikeras) (0.13.1)\n",
            "Requirement already satisfied: ml-dtypes in /usr/local/lib/python3.10/dist-packages (from keras>=3.2.0->scikeras) (0.4.1)\n",
            "Requirement already satisfied: packaging in /usr/local/lib/python3.10/dist-packages (from keras>=3.2.0->scikeras) (24.2)\n",
            "Requirement already satisfied: scipy>=1.6.0 in /usr/local/lib/python3.10/dist-packages (from scikit-learn>=1.4.2->scikeras) (1.13.1)\n",
            "Requirement already satisfied: joblib>=1.2.0 in /usr/local/lib/python3.10/dist-packages (from scikit-learn>=1.4.2->scikeras) (1.4.2)\n",
            "Requirement already satisfied: threadpoolctl>=3.1.0 in /usr/local/lib/python3.10/dist-packages (from scikit-learn>=1.4.2->scikeras) (3.5.0)\n",
            "Requirement already satisfied: typing-extensions>=4.5.0 in /usr/local/lib/python3.10/dist-packages (from optree->keras>=3.2.0->scikeras) (4.12.2)\n",
            "Requirement already satisfied: markdown-it-py>=2.2.0 in /usr/local/lib/python3.10/dist-packages (from rich->keras>=3.2.0->scikeras) (3.0.0)\n",
            "Requirement already satisfied: pygments<3.0.0,>=2.13.0 in /usr/local/lib/python3.10/dist-packages (from rich->keras>=3.2.0->scikeras) (2.18.0)\n",
            "Requirement already satisfied: mdurl~=0.1 in /usr/local/lib/python3.10/dist-packages (from markdown-it-py>=2.2.0->rich->keras>=3.2.0->scikeras) (0.1.2)\n",
            "Downloading scikeras-0.13.0-py3-none-any.whl (26 kB)\n",
            "Installing collected packages: scikeras\n",
            "Successfully installed scikeras-0.13.0\n"
          ]
        }
      ]
    },
    {
      "cell_type": "code",
      "execution_count": 5,
      "metadata": {
        "id": "lmWJTYWx7Ibd",
        "colab": {
          "base_uri": "https://localhost:8080/"
        },
        "outputId": "8953e6ea-090e-4981-b6f0-2c8ca2bbd17d"
      },
      "outputs": [
        {
          "output_type": "stream",
          "name": "stderr",
          "text": [
            "[nltk_data] Downloading package punkt_tab to /root/nltk_data...\n",
            "[nltk_data]   Package punkt_tab is already up-to-date!\n",
            "[nltk_data] Downloading package averaged_perceptron_tagger_eng to\n",
            "[nltk_data]     /root/nltk_data...\n",
            "[nltk_data]   Package averaged_perceptron_tagger_eng is already up-to-\n",
            "[nltk_data]       date!\n"
          ]
        }
      ],
      "source": [
        "import os\n",
        "import pandas as pd\n",
        "import numpy as np\n",
        "\n",
        "import unicodedata\n",
        "\n",
        "from itertools import groupby\n",
        "from unicodedata import category as unicat\n",
        "\n",
        "import nltk\n",
        "nltk.download('punkt_tab')\n",
        "nltk.download('averaged_perceptron_tagger_eng')\n",
        "\n",
        "from nltk import word_tokenize, pos_tag\n",
        "from nltk.chunk import tree2conlltags\n",
        "from nltk.chunk.regexp import RegexpParser\n",
        "from nltk.corpus import wordnet as wn\n",
        "from nltk.probability import FreqDist\n",
        "from nltk.stem.wordnet import WordNetLemmatizer\n",
        "from nltk.tokenize import sent_tokenize\n",
        "\n",
        "from sklearn.base import BaseEstimator, TransformerMixin\n",
        "\n",
        "from tensorflow.keras.utils import pad_sequences"
      ]
    },
    {
      "cell_type": "code",
      "source": [
        "from google.colab import userdata\n",
        "import boto3\n",
        "\n",
        "s3 = boto3.client(\"s3\", aws_access_key_id=userdata.get('AWS_ACCESS_KEY_ID'), aws_secret_access_key=userdata.get('AWS_SECRET_ACCESS_KEY'))\n",
        "s3.download_file(\"3666-applied-nlp\", \"KeyphraseExtractor.cache.tar.gz\", \"KeyphraseExtractor.cache.tar.gz\")\n",
        "s3.download_file(\"3666-applied-nlp\", \"rate_speeches.sent_tokenize.parquet.gzip\", \"rate_speeches.sent_tokenize.parquet.gzip\")\n"
      ],
      "metadata": {
        "id": "zii75LcLG-mX"
      },
      "execution_count": 3,
      "outputs": []
    },
    {
      "cell_type": "code",
      "source": [
        "!tar zxvf KeyphraseExtractor.cache.tar.gz"
      ],
      "metadata": {
        "id": "ruQ3VS-WTsWh",
        "outputId": "3a9f0712-5793-487d-b6dc-64de2aa081c5",
        "colab": {
          "base_uri": "https://localhost:8080/"
        }
      },
      "execution_count": 4,
      "outputs": [
        {
          "output_type": "stream",
          "name": "stdout",
          "text": [
            "KeyphraseExtractor.cache/\n",
            "KeyphraseExtractor.cache/05/\n",
            "KeyphraseExtractor.cache/05/84/\n",
            "KeyphraseExtractor.cache/05/84/f24f121384ea6d5ea175c2eef44a.val\n",
            "KeyphraseExtractor.cache/cache.db-wal\n",
            "KeyphraseExtractor.cache/94/\n",
            "KeyphraseExtractor.cache/94/0c/\n",
            "KeyphraseExtractor.cache/94/0c/309315452b5fa5588d5d6d66f405.val\n",
            "KeyphraseExtractor.cache/21/\n",
            "KeyphraseExtractor.cache/21/69/\n",
            "KeyphraseExtractor.cache/21/69/d0317ff1075952f96e1e53d6e1fe.val\n",
            "KeyphraseExtractor.cache/5a/\n",
            "KeyphraseExtractor.cache/5a/e5/\n",
            "KeyphraseExtractor.cache/5a/e5/022d5ef85bb77b81db3d779e2962.val\n",
            "KeyphraseExtractor.cache/10/\n",
            "KeyphraseExtractor.cache/10/2c/\n",
            "KeyphraseExtractor.cache/10/2c/7caf7e979f8eaf545c7930ae5cec.val\n",
            "KeyphraseExtractor.cache/78/\n",
            "KeyphraseExtractor.cache/78/f0/\n",
            "KeyphraseExtractor.cache/78/f0/bdaab94235b6fa36ffb92ad9ebec.val\n",
            "KeyphraseExtractor.cache/78/86/\n",
            "KeyphraseExtractor.cache/78/86/96211e96525b35e95ee90c452d8c.val\n",
            "KeyphraseExtractor.cache/e2/\n",
            "KeyphraseExtractor.cache/e2/46/\n",
            "KeyphraseExtractor.cache/e2/46/23dbcf517abd12143368d17d1818.val\n",
            "KeyphraseExtractor.cache/42/\n",
            "KeyphraseExtractor.cache/42/54/\n",
            "KeyphraseExtractor.cache/42/54/0bfeb7e43b21bad4cf8bbbb1f915.val\n",
            "KeyphraseExtractor.cache/87/\n",
            "KeyphraseExtractor.cache/87/5a/\n",
            "KeyphraseExtractor.cache/87/5a/7fdf74500cff54c2c46d9bf35d4d.val\n",
            "KeyphraseExtractor.cache/bf/\n",
            "KeyphraseExtractor.cache/bf/8f/\n",
            "KeyphraseExtractor.cache/bf/8f/2d7754f210afba9c86abcd605609.val\n",
            "KeyphraseExtractor.cache/7f/\n",
            "KeyphraseExtractor.cache/7f/4b/\n",
            "KeyphraseExtractor.cache/7f/4b/af7e99765600d13c2fe6f4b3d243.val\n",
            "KeyphraseExtractor.cache/cd/\n",
            "KeyphraseExtractor.cache/cd/4c/\n",
            "KeyphraseExtractor.cache/cd/4c/d67f8c8b29ea5dd97c78174cd37f.val\n",
            "KeyphraseExtractor.cache/20/\n",
            "KeyphraseExtractor.cache/20/67/\n",
            "KeyphraseExtractor.cache/20/67/992cd323348df972dcb6921d4e4a.val\n",
            "KeyphraseExtractor.cache/95/\n",
            "KeyphraseExtractor.cache/95/a0/\n",
            "KeyphraseExtractor.cache/95/a0/9c1f2f120dbcb833c727e4d8c9b9.val\n",
            "KeyphraseExtractor.cache/95/6c/\n",
            "KeyphraseExtractor.cache/95/6c/4f82f18bb4f101a6ccb43900d7f3.val\n",
            "KeyphraseExtractor.cache/d5/\n",
            "KeyphraseExtractor.cache/d5/3a/\n",
            "KeyphraseExtractor.cache/d5/3a/63ea9dd44f0ef319f8db96e4c3fd.val\n",
            "KeyphraseExtractor.cache/90/\n",
            "KeyphraseExtractor.cache/90/37/\n",
            "KeyphraseExtractor.cache/90/37/3011d96d7a552d5338fea3cb4a0c.val\n",
            "KeyphraseExtractor.cache/e3/\n",
            "KeyphraseExtractor.cache/e3/4e/\n",
            "KeyphraseExtractor.cache/e3/4e/e9eb9f5b5f59febf2f517c9a40ca.val\n",
            "KeyphraseExtractor.cache/e3/d1/\n",
            "KeyphraseExtractor.cache/e3/d1/989ea736522bd5f081d1bd8d8622.val\n",
            "KeyphraseExtractor.cache/cache.db\n",
            "KeyphraseExtractor.cache/33/\n",
            "KeyphraseExtractor.cache/33/dc/\n",
            "KeyphraseExtractor.cache/33/dc/9d206ec5edf20e51239128cc6c65.val\n",
            "KeyphraseExtractor.cache/bd/\n",
            "KeyphraseExtractor.cache/bd/11/\n",
            "KeyphraseExtractor.cache/bd/11/3df6b5f270f3bca22978fa4b931a.val\n",
            "KeyphraseExtractor.cache/da/\n",
            "KeyphraseExtractor.cache/da/c6/\n",
            "KeyphraseExtractor.cache/da/c6/676963b4ad8934d1b7bd0b5a4f77.val\n",
            "KeyphraseExtractor.cache/08/\n",
            "KeyphraseExtractor.cache/08/c4/\n",
            "KeyphraseExtractor.cache/08/c4/645aa56bc07abce24e79ceef0750.val\n",
            "KeyphraseExtractor.cache/cache.db-shm\n",
            "KeyphraseExtractor.cache/0e/\n",
            "KeyphraseExtractor.cache/0e/87/\n",
            "KeyphraseExtractor.cache/0e/87/8cd90134a1ce4f2ad547a24fd67c.val\n",
            "KeyphraseExtractor.cache/c3/\n",
            "KeyphraseExtractor.cache/c3/ab/\n",
            "KeyphraseExtractor.cache/c3/ab/31c2766da2822874acf6999ebd84.val\n",
            "KeyphraseExtractor.cache/55/\n",
            "KeyphraseExtractor.cache/55/74/\n",
            "KeyphraseExtractor.cache/55/74/10a7f3aa2a4031074a569f2d22aa.val\n",
            "KeyphraseExtractor.cache/be/\n",
            "KeyphraseExtractor.cache/be/28/\n",
            "KeyphraseExtractor.cache/be/28/090291fa1ac3182d681bdbc72047.val\n",
            "KeyphraseExtractor.cache/49/\n",
            "KeyphraseExtractor.cache/49/79/\n",
            "KeyphraseExtractor.cache/49/79/0abcf1e12e2936c37211e2c0d3e7.val\n",
            "KeyphraseExtractor.cache/46/\n",
            "KeyphraseExtractor.cache/46/8d/\n",
            "KeyphraseExtractor.cache/46/8d/eb46a79b86789716f3196dc5145f.val\n"
          ]
        }
      ]
    },
    {
      "cell_type": "code",
      "source": [
        "\n",
        "from diskcache import Cache\n",
        "cache = Cache('KeyphraseExtractor.cache')\n"
      ],
      "metadata": {
        "id": "YzTjf9usTFrd"
      },
      "execution_count": 6,
      "outputs": []
    },
    {
      "cell_type": "code",
      "source": [
        "# from joblib import Memory\n",
        "# location = 'keyphrase_extractor_cachedir'\n",
        "# memory = Memory(location, verbose=0)\n",
        "\n",
        "from tqdm import tqdm\n",
        "\n",
        "class KeyphraseExtractor(BaseEstimator, TransformerMixin):\n",
        "    \"\"\"\n",
        "    Extract adverbial and adjective phrases, and transform\n",
        "    documents into lists of these keyphrases, with a total\n",
        "    keyphrase lexicon limited by the nfeatures parameter\n",
        "    and a document length limited/padded to doclen\n",
        "    \"\"\"\n",
        "    def __init__(self, nfeatures: int, doclen: int):\n",
        "        self.grammar = r'KT: {(<RB.> <JJ.*>|<VB.*>|<RB.*>)|(<JJ> <NN.*>)}'\n",
        "        # self.grammar = r'KT: {(<RB.*> <VB.>|<RB.>|<JJ.> <NN.*>)}'\n",
        "        # self.grammar = r'KT: {<RB.>|<JJ.>}'\n",
        "        self.chunker = RegexpParser(self.grammar)\n",
        "        self.nfeatures = nfeatures\n",
        "        self.doclen = doclen\n",
        "        # self.normalize = memory.cache(self.normalize)\n",
        "        # self.extract_candidate_phrases = memory.cache(self.extract_candidate_phrases)\n",
        "\n",
        "    def normalize(self, sent):\n",
        "        \"\"\"\n",
        "        Removes punctuation from a tokenized/tagged sentence and\n",
        "        lowercases words.\n",
        "        \"\"\"\n",
        "        is_punct = lambda word: all(unicat(c).startswith('P') for c in word)\n",
        "        sent = filter(lambda t: not is_punct(t[0]), sent)\n",
        "        sent = map(lambda t: (t[0].lower(), t[1]), sent)\n",
        "        return list(sent)\n",
        "\n",
        "    # NOTE: wrap with memoizing function using cache\n",
        "    # repeated calls with the same arguments will lookup result in cache and avoid function evaluation.\n",
        "    @cache.memoize()\n",
        "    def extract_candidate_phrases(self, sents):\n",
        "        \"\"\"\n",
        "        For a document, parse sentences using our chunker created by\n",
        "        our grammar, converting the parse tree into a tagged sequence.\n",
        "        Extract phrases, rejoin with a space, and yield the document\n",
        "        represented as a list of it's keyphrases.\n",
        "        \"\"\"\n",
        "        result = []\n",
        "        for sent in sents:\n",
        "            tokens = word_tokenize(sent)\n",
        "            pos_tags = pos_tag(tokens)\n",
        "            normalized = self.normalize(pos_tags)\n",
        "\n",
        "            chunks = tree2conlltags(self.chunker.parse(normalized))\n",
        "            if not chunks or all(chunk[-1] == 'O' for chunk in chunks):\n",
        "                # print(f\"No valid chunks found in sentence: {sent}\")\n",
        "                continue\n",
        "\n",
        "            phrases = [\n",
        "                \" \".join(word for word, pos, chunk in group).lower()\n",
        "                for key, group in groupby(\n",
        "                    chunks, lambda term: term[-1] != 'O'\n",
        "                ) if key\n",
        "            ]\n",
        "            for phrase in phrases:\n",
        "                # yield phrase # joblib.Memory can't cache generators\n",
        "                result.append(phrase)\n",
        "        return result\n",
        "\n",
        "    def fit(self, documents, y=None):\n",
        "        return self\n",
        "\n",
        "    def get_lexicon(self, keydocs):\n",
        "        \"\"\"\n",
        "        Build a lexicon of size nfeatures\n",
        "        \"\"\"\n",
        "        keyphrases = [keyphrase for doc in keydocs for keyphrase in doc]\n",
        "        # print(\"Keyphrases:\", keyphrases[:5])\n",
        "        fdist = FreqDist(keyphrases)\n",
        "        counts = fdist.most_common(self.nfeatures)\n",
        "        # print(\"Frequency counts:\", counts[:5])\n",
        "        lexicon = [phrase for phrase, count in counts]\n",
        "        return {phrase: idx+1 for idx, phrase in enumerate(lexicon)}\n",
        "\n",
        "    def clip(self, keydoc, lexicon):\n",
        "        \"\"\"\n",
        "        Remove keyphrases from documents that aren't in the lexicon\n",
        "        \"\"\"\n",
        "        return [lexicon[keyphrase] for keyphrase in keydoc if keyphrase in lexicon.keys()]\n",
        "\n",
        "    def transform(self, documents):\n",
        "      keydocs = [list(self.extract_candidate_phrases(doc)) for doc in tqdm(documents)]\n",
        "      lexicon = self.get_lexicon(keydocs)\n",
        "      clipped = [list(self.clip(keydoc, lexicon)) for keydoc in keydocs]\n",
        "      return pad_sequences(clipped, maxlen=self.doclen)\n"
      ],
      "metadata": {
        "id": "T0tWYGJmIAIl"
      },
      "execution_count": 7,
      "outputs": []
    },
    {
      "cell_type": "code",
      "source": [
        "from keras.models import Sequential\n",
        "from keras.layers import Embedding, LSTM, Dropout, Dense, Input\n",
        "\n",
        "def create_lstm_model(vocab_size: int, input_length: int, num_classes: int, compile_loss: str):\n",
        "    model = Sequential([\n",
        "        Input(shape=(input_length,), name=\"input_layer\"),  # explicit input layer\n",
        "        Embedding(input_dim=vocab_size, output_dim=128, name=\"embedding_layer\"),\n",
        "        LSTM(128, return_sequences=True, name=\"lstm_layer_1\"),\n",
        "        Dropout(0.2, name=\"dropout_layer_1\"),\n",
        "        LSTM(64, name=\"lstm_layer_2\"),\n",
        "        Dropout(0.2, name=\"dropout_layer_2\"),\n",
        "        Dense(num_classes, activation=\"softmax\", name=\"output_layer\")\n",
        "    ])\n",
        "    model.compile(optimizer='adam', loss=compile_loss, metrics=['accuracy'])\n",
        "    return model\n"
      ],
      "metadata": {
        "id": "ghUGperddEGg"
      },
      "execution_count": 8,
      "outputs": []
    },
    {
      "cell_type": "code",
      "source": [
        "class DebugTransformer(BaseEstimator, TransformerMixin):\n",
        "    def fit(self, X, y=None):\n",
        "        return self\n",
        "    def transform(self, X):\n",
        "        print(\"Data Shape Before LSTM:\", X.shape)\n",
        "        # print(\"Sample Data Before LSTM:\", X[0])  # print a sample\n",
        "        return X\n"
      ],
      "metadata": {
        "id": "Z9Oezl_Klq9B"
      },
      "execution_count": 9,
      "outputs": []
    },
    {
      "cell_type": "markdown",
      "source": [
        "# Load prepared data and initialize `X`, `y`"
      ],
      "metadata": {
        "id": "3fdB6UOkaYIq"
      }
    },
    {
      "cell_type": "code",
      "source": [
        "\n",
        "RATE_SPEECHES_TOKENIZED_FILE = 'rate_speeches.sent_tokenize.parquet.gzip'\n",
        "assert os.path.exists(RATE_SPEECHES_TOKENIZED_FILE), f\"file not present: {RATE_SPEECHES_TOKENIZED_FILE}\"\n",
        "\n",
        "rate_speeches = pd.read_parquet(RATE_SPEECHES_TOKENIZED_FILE)\n",
        "print(f\"rate_speeches.shape: {rate_speeches.shape}\")\n"
      ],
      "metadata": {
        "colab": {
          "base_uri": "https://localhost:8080/"
        },
        "id": "eVwbjlT8Z16N",
        "outputId": "ea682668-9665-4f81-c9ae-c027d7325fcb"
      },
      "execution_count": 10,
      "outputs": [
        {
          "output_type": "stream",
          "name": "stdout",
          "text": [
            "rate_speeches.shape: (3434, 17)\n"
          ]
        }
      ]
    },
    {
      "cell_type": "markdown",
      "source": [
        "It is acceptable to call `label_encoder.fit_transform(y)` on the entire set of labels (`Direction` values) because `LabelEncoder` is a simple transformation that maps categorical values to numerical labels:\n",
        "\n",
        "- **It does not learn any information about the dataset beyond the unique classes. However, there are nuances to consider.**\n"
      ],
      "metadata": {
        "id": "26GdRB6vb5jE"
      }
    },
    {
      "cell_type": "code",
      "source": [
        "from sklearn.preprocessing import LabelEncoder\n",
        "\n",
        "X = rate_speeches[\"extracted_text\"]\n",
        "print(f\"X.shape: {X.shape}\")\n",
        "\n",
        "label_encoder = LabelEncoder()\n",
        "y = label_encoder.fit_transform(rate_speeches[\"Direction\"])  # integer encoding\n",
        "print(f\"y_encoded.shape: {y.shape}\")\n"
      ],
      "metadata": {
        "colab": {
          "base_uri": "https://localhost:8080/"
        },
        "id": "-W6ig9YAc5lY",
        "outputId": "7850eff9-f448-4dff-ae28-d19eae1475eb"
      },
      "execution_count": 169,
      "outputs": [
        {
          "output_type": "stream",
          "name": "stdout",
          "text": [
            "X.shape: (3434,)\n",
            "y_encoded.shape: (3434,)\n"
          ]
        }
      ]
    },
    {
      "cell_type": "code",
      "source": [
        "# keyphrase_extractor = KeyphraseExtractor(nfeatures=10000, doclen=100)\n",
        "\n",
        "# # build cache\n",
        "# keyphrase_extractor.fit_transform(X)"
      ],
      "metadata": {
        "id": "jWiW1QIo-Mm6"
      },
      "execution_count": 14,
      "outputs": []
    },
    {
      "cell_type": "code",
      "source": [
        "# !tar -cvzf KeyphraseExtractor.cache.tar.gz KeyphraseExtractor.cache"
      ],
      "metadata": {
        "id": "BbTAsTEnNaDj"
      },
      "execution_count": null,
      "outputs": []
    },
    {
      "cell_type": "code",
      "source": [
        "# from google.colab import userdata\n",
        "# import boto3\n",
        "\n",
        "# s3 = boto3.client(\"s3\", aws_access_key_id=userdata.get('AWS_ACCESS_KEY_ID'), aws_secret_access_key=userdata.get('AWS_SECRET_ACCESS_KEY'))\n",
        "# s3.upload_file(\"KeyphraseExtractor.cache.tar.gz\", \"3666-applied-nlp\", \"KeyphraseExtractor.cache.tar.gz\")\n"
      ],
      "metadata": {
        "id": "Ys2dKXewOng-"
      },
      "execution_count": 24,
      "outputs": []
    },
    {
      "cell_type": "code",
      "source": [
        "# keyphrase_extractor.fit_transform(X)"
      ],
      "metadata": {
        "id": "KPFPiwcMD1Bd"
      },
      "execution_count": 15,
      "outputs": []
    },
    {
      "cell_type": "markdown",
      "source": [
        "# Choices for `n_splits`\n",
        "\n",
        "## 5-Fold Cross-Validation:\n",
        "- Most commonly used.\n",
        "- Provides a good balance between bias and variance of the performance estimate.\n",
        "\n",
        "## 10-Fold Cross-Validation:\n",
        "- Preferred when data is limited and computational cost is acceptable.\n",
        "- Offers slightly more robust performance estimates but increases computation time."
      ],
      "metadata": {
        "id": "uc8uSOcwmX1a"
      }
    },
    {
      "cell_type": "code",
      "source": [
        "from sklearn.model_selection import StratifiedKFold\n",
        "\n",
        "# dynamically determine n_splits based on class distribution\n",
        "min_class_size = rate_speeches[\"Direction\"].value_counts().min()\n",
        "print(f\"min_class_size: {min_class_size}\")\n",
        "\n",
        "n_splits = min(10, min_class_size)  # use up to 10 splits or the smallest class size\n",
        "print(f\"Using {n_splits}-Fold Cross-Validation\")\n",
        "\n",
        "skf = StratifiedKFold(n_splits=n_splits, shuffle=True, random_state=42)\n"
      ],
      "metadata": {
        "id": "ub3UMSYFZJY3",
        "colab": {
          "base_uri": "https://localhost:8080/"
        },
        "outputId": "cf9b47bd-efbf-47b6-9c13-ff7be2edfbe5"
      },
      "execution_count": 162,
      "outputs": [
        {
          "output_type": "stream",
          "name": "stdout",
          "text": [
            "min_class_size: 252\n",
            "Using 10-Fold Cross-Validation\n"
          ]
        }
      ]
    },
    {
      "cell_type": "code",
      "source": [
        "from sklearn.model_selection import train_test_split, cross_val_score\n",
        "\n",
        "X_train, X_test, y_train, y_test = train_test_split(X, y, test_size=0.2, random_state=42, stratify=y)\n"
      ],
      "metadata": {
        "id": "B6isU7qRkJm_"
      },
      "execution_count": 171,
      "outputs": []
    },
    {
      "cell_type": "markdown",
      "source": [
        "# Standard `sklearn.pipeline.Pipeline`"
      ],
      "metadata": {
        "id": "XjEgWBmHjs5A"
      }
    },
    {
      "cell_type": "code",
      "source": [
        "from sklearn.pipeline import Pipeline\n",
        "from scikeras.wrappers import KerasClassifier\n",
        "from joblib import Memory\n",
        "\n",
        "#-- no longer needed since the results from KeyphraseExtractor have already been cached\n",
        "# memory_sparse = Memory(location=\"cache_directory_sparse\", verbose=0)\n",
        "\n",
        "pipeline_scce = Pipeline([\n",
        "    (\"keyphrase_extractor\",\n",
        "      KeyphraseExtractor(nfeatures=10000, doclen=100)),\n",
        "    ('debug', DebugTransformer()),\n",
        "    (\"lstm_classifier\",\n",
        "      KerasClassifier(\n",
        "        build_fn=create_lstm_model,\n",
        "        vocab_size=10000,\n",
        "        input_length=100,\n",
        "        num_classes=3,\n",
        "        compile_loss='sparse_categorical_crossentropy',\n",
        "        epochs=10,\n",
        "        batch_size=32,\n",
        "        verbose=1)\n",
        "    )\n",
        "])\n"
      ],
      "metadata": {
        "id": "IcGqYzxxeHO9"
      },
      "execution_count": 27,
      "outputs": []
    },
    {
      "cell_type": "code",
      "source": [],
      "metadata": {
        "id": "pYDdKRsfYQLk",
        "collapsed": true
      },
      "execution_count": 48,
      "outputs": []
    },
    {
      "cell_type": "code",
      "source": [
        "\n",
        "scores = cross_val_score(pipeline_scce, X_train, y_train, cv=skf, scoring=\"accuracy\")\n"
      ],
      "metadata": {
        "id": "b5rju1pFSJg0"
      },
      "execution_count": null,
      "outputs": []
    },
    {
      "cell_type": "code",
      "source": [
        "print(f\"Cross-validation scores: {scores}\")\n",
        "print(f\"Mean accuracy: {np.mean(scores):.2f}\")\n"
      ],
      "metadata": {
        "id": "aamEA-X7addX",
        "colab": {
          "base_uri": "https://localhost:8080/"
        },
        "outputId": "0fafd2e0-19b9-48f3-84f4-065258fd8115"
      },
      "execution_count": 20,
      "outputs": [
        {
          "output_type": "stream",
          "name": "stdout",
          "text": [
            "Cross-validation scores: [0.77454545 0.78545455 0.81454545 0.79636364 0.79636364 0.76727273\n",
            " 0.77818182 0.80291971 0.75182482 0.73357664]\n",
            "Mean accuracy: 0.78\n"
          ]
        }
      ]
    },
    {
      "cell_type": "code",
      "source": [
        "\n",
        "# Final Evaluation on Test Set\n",
        "pipeline_scce.fit(X_train, y_train)\n",
        "y_pred = pipeline_scce.predict(X_test)\n"
      ],
      "metadata": {
        "collapsed": true,
        "id": "ctiZarR-vp3i",
        "outputId": "d5053991-a67c-44f1-d32b-cad21a092116",
        "colab": {
          "base_uri": "https://localhost:8080/"
        }
      },
      "execution_count": 21,
      "outputs": [
        {
          "output_type": "stream",
          "name": "stderr",
          "text": [
            "100%|██████████| 2747/2747 [00:03<00:00, 884.08it/s]\n"
          ]
        },
        {
          "output_type": "stream",
          "name": "stdout",
          "text": [
            "Keyphrases: ['be delivered', 'european central', 'financial structures sponsored', 'anniversary santiago', 'gives']\n",
            "Frequency counts: [('is', 50166), ('euro area', 21764), ('be', 18724), ('are', 17053), ('monetary policy', 15833)]\n",
            "Data Shape Before LSTM: (2747, 100)\n",
            "Epoch 1/10\n"
          ]
        },
        {
          "output_type": "stream",
          "name": "stderr",
          "text": [
            "/usr/local/lib/python3.10/dist-packages/scikeras/wrappers.py:925: UserWarning: ``build_fn`` will be renamed to ``model`` in a future release, at which point use of ``build_fn`` will raise an Error instead.\n",
            "  X, y = self._initialize(X, y)\n"
          ]
        },
        {
          "output_type": "stream",
          "name": "stdout",
          "text": [
            "\u001b[1m86/86\u001b[0m \u001b[32m━━━━━━━━━━━━━━━━━━━━\u001b[0m\u001b[37m\u001b[0m \u001b[1m3s\u001b[0m 11ms/step - accuracy: 0.8180 - loss: 0.6622\n",
            "Epoch 2/10\n",
            "\u001b[1m86/86\u001b[0m \u001b[32m━━━━━━━━━━━━━━━━━━━━\u001b[0m\u001b[37m\u001b[0m \u001b[1m1s\u001b[0m 11ms/step - accuracy: 0.8448 - loss: 0.4804\n",
            "Epoch 3/10\n",
            "\u001b[1m86/86\u001b[0m \u001b[32m━━━━━━━━━━━━━━━━━━━━\u001b[0m\u001b[37m\u001b[0m \u001b[1m1s\u001b[0m 10ms/step - accuracy: 0.9132 - loss: 0.2168\n",
            "Epoch 4/10\n",
            "\u001b[1m86/86\u001b[0m \u001b[32m━━━━━━━━━━━━━━━━━━━━\u001b[0m\u001b[37m\u001b[0m \u001b[1m1s\u001b[0m 11ms/step - accuracy: 0.9629 - loss: 0.1121\n",
            "Epoch 5/10\n",
            "\u001b[1m86/86\u001b[0m \u001b[32m━━━━━━━━━━━━━━━━━━━━\u001b[0m\u001b[37m\u001b[0m \u001b[1m1s\u001b[0m 10ms/step - accuracy: 0.9939 - loss: 0.0261\n",
            "Epoch 6/10\n",
            "\u001b[1m86/86\u001b[0m \u001b[32m━━━━━━━━━━━━━━━━━━━━\u001b[0m\u001b[37m\u001b[0m \u001b[1m1s\u001b[0m 10ms/step - accuracy: 0.9986 - loss: 0.0092\n",
            "Epoch 7/10\n",
            "\u001b[1m86/86\u001b[0m \u001b[32m━━━━━━━━━━━━━━━━━━━━\u001b[0m\u001b[37m\u001b[0m \u001b[1m1s\u001b[0m 10ms/step - accuracy: 0.9947 - loss: 0.0220\n",
            "Epoch 8/10\n",
            "\u001b[1m86/86\u001b[0m \u001b[32m━━━━━━━━━━━━━━━━━━━━\u001b[0m\u001b[37m\u001b[0m \u001b[1m1s\u001b[0m 10ms/step - accuracy: 0.9960 - loss: 0.0144\n",
            "Epoch 9/10\n",
            "\u001b[1m86/86\u001b[0m \u001b[32m━━━━━━━━━━━━━━━━━━━━\u001b[0m\u001b[37m\u001b[0m \u001b[1m1s\u001b[0m 10ms/step - accuracy: 0.9922 - loss: 0.0291\n",
            "Epoch 10/10\n",
            "\u001b[1m86/86\u001b[0m \u001b[32m━━━━━━━━━━━━━━━━━━━━\u001b[0m\u001b[37m\u001b[0m \u001b[1m1s\u001b[0m 10ms/step - accuracy: 0.9963 - loss: 0.0178\n"
          ]
        },
        {
          "output_type": "stream",
          "name": "stderr",
          "text": [
            "100%|██████████| 687/687 [00:00<00:00, 897.32it/s]\n"
          ]
        },
        {
          "output_type": "stream",
          "name": "stdout",
          "text": [
            "Keyphrases: ['am', 'first president', 'european commission', 'famously said', 'is']\n",
            "Frequency counts: [('is', 13430), ('euro area', 5296), ('be', 4899), ('are', 4559), ('have', 4286)]\n",
            "Data Shape Before LSTM: (687, 100)\n",
            "\u001b[1m22/22\u001b[0m \u001b[32m━━━━━━━━━━━━━━━━━━━━\u001b[0m\u001b[37m\u001b[0m \u001b[1m0s\u001b[0m 12ms/step\n"
          ]
        }
      ]
    },
    {
      "cell_type": "code",
      "source": [
        "from sklearn.metrics import confusion_matrix, classification_report, ConfusionMatrixDisplay\n",
        "import matplotlib.pyplot as plt\n",
        "\n",
        "print(\"Confusion Matrix:\")\n",
        "cm = confusion_matrix(y_test, y_pred, labels=range(len(label_encoder.classes_)))\n",
        "print(cm)\n",
        "\n",
        "print()\n",
        "# display Confusion Matrix\n",
        "disp = ConfusionMatrixDisplay(confusion_matrix=cm, display_labels=label_encoder.classes_)\n",
        "disp.plot(cmap=\"Blues\", xticks_rotation=45)\n",
        "plt.title(\"Confusion Matrix\")\n",
        "plt.show()\n",
        "\n",
        "print()\n",
        "print(\"Classification Report:\")\n",
        "print(classification_report(y_test, y_pred, target_names=label_encoder.classes_))"
      ],
      "metadata": {
        "colab": {
          "base_uri": "https://localhost:8080/",
          "height": 826
        },
        "id": "KlmjUFGRyJDa",
        "outputId": "fbcb61ee-4483-4b79-90ba-ceb82c3db605"
      },
      "execution_count": 22,
      "outputs": [
        {
          "output_type": "stream",
          "name": "stdout",
          "text": [
            "Confusion Matrix:\n",
            "[[  1   3  55]\n",
            " [  0   2  48]\n",
            " [ 17  12 549]]\n",
            "\n"
          ]
        },
        {
          "output_type": "display_data",
          "data": {
            "text/plain": [
              "<Figure size 640x480 with 2 Axes>"
            ],
            "image/png": "[encoded data removed]"
          },
          "metadata": {}
        },
        {
          "output_type": "stream",
          "name": "stdout",
          "text": [
            "\n",
            "Classification Report:\n",
            "              precision    recall  f1-score   support\n",
            "\n",
            "    Decrease       0.06      0.02      0.03        59\n",
            "    Increase       0.12      0.04      0.06        50\n",
            "   No Change       0.84      0.95      0.89       578\n",
            "\n",
            "    accuracy                           0.80       687\n",
            "   macro avg       0.34      0.34      0.33       687\n",
            "weighted avg       0.72      0.80      0.76       687\n",
            "\n"
          ]
        }
      ]
    },
    {
      "cell_type": "markdown",
      "source": [
        "# Imbalanced data with `SMOTE` and `imblearn.pipeline.Pipeline`"
      ],
      "metadata": {
        "id": "4Ck7vpnMjy0w"
      }
    },
    {
      "cell_type": "code",
      "source": [
        "from imblearn.over_sampling import SMOTE\n",
        "\n",
        "keyphrase_extractor = KeyphraseExtractor(nfeatures=10000, doclen=100)\n",
        "X_train_transformed = keyphrase_extractor.fit_transform(X_train)\n",
        "\n",
        "smote = SMOTE(random_state=42)\n",
        "X_train_resampled, y_train_resampled = smote.fit_resample(X_train_transformed, y_train)\n"
      ],
      "metadata": {
        "id": "sFaDOmlMFw0u",
        "outputId": "236130d4-8f1a-474f-f8e8-4f7828fdb5a5",
        "colab": {
          "base_uri": "https://localhost:8080/"
        }
      },
      "execution_count": 174,
      "outputs": [
        {
          "output_type": "stream",
          "name": "stderr",
          "text": [
            "100%|██████████| 2747/2747 [00:06<00:00, 398.92it/s]\n"
          ]
        }
      ]
    },
    {
      "cell_type": "code",
      "source": [
        "from scikeras.wrappers import KerasClassifier\n",
        "from imblearn.pipeline import Pipeline as ImbalancedPipeline\n",
        "\n",
        "from sklearn.model_selection import cross_validate\n",
        "\n",
        "imbalanced_pipeline = ImbalancedPipeline(steps=[\n",
        "    (\"keyphrase_extractor\",\n",
        "      KeyphraseExtractor(nfeatures=10000, doclen=100)),\n",
        "    (\"smote\",\n",
        "      SMOTE(random_state=42)),\n",
        "    ('debug', DebugTransformer()),\n",
        "    (\"lstm_classifier\",\n",
        "      KerasClassifier(\n",
        "        build_fn=create_lstm_model,\n",
        "        vocab_size=10000,\n",
        "        input_length=100,\n",
        "        num_classes=3,\n",
        "        compile_loss='sparse_categorical_crossentropy',\n",
        "        epochs=10,\n",
        "        batch_size=32,\n",
        "        verbose=1))\n",
        "])\n",
        "\n",
        "scores = cross_validate(\n",
        "    imbalanced_pipeline,\n",
        "    X_train,\n",
        "    y_train,\n",
        "    cv=skf,\n",
        "    scoring=\"accuracy\",\n",
        "    return_estimator=True,\n",
        "    return_train_score=True)\n"
      ],
      "metadata": {
        "id": "W85GQ_XuNbz8"
      },
      "execution_count": null,
      "outputs": []
    }
  ]
}